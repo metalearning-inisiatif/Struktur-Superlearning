{
  "metadata": {
    "kernelspec": {
      "language": "python",
      "display_name": "Python 3",
      "name": "python3"
    },
    "language_info": {
      "name": "python",
      "version": "3.7.10",
      "mimetype": "text/x-python",
      "codemirror_mode": {
        "name": "ipython",
        "version": 3
      },
      "pygments_lexer": "ipython3",
      "nbconvert_exporter": "python",
      "file_extension": ".py"
    },
    "colab": {
      "name": "Salinan dari Meta Learning.ipynb",
      "provenance": [],
      "machine_shape": "hm",
      "include_colab_link": true
    }
  },
  "nbformat_minor": 0,
  "nbformat": 4,
  "cells": [
    {
      "cell_type": "markdown",
      "metadata": {
        "id": "view-in-github",
        "colab_type": "text"
      },
      "source": [
        "<a href=\"https://colab.research.google.com/github/metalearning-inisiatif/Struktur-Superlearning/blob/main/Salinan_dari_Meta_Learning.ipynb\" target=\"_parent\"><img src=\"https://colab.research.google.com/assets/colab-badge.svg\" alt=\"Open In Colab\"/></a>"
      ]
    },
    {
      "cell_type": "code",
      "source": [
        "import numpy as np # linear algebra\n",
        "import pandas as pd # data processing, CSV file I/O (e.g. pd.read_csv)\n",
        "\n",
        "from numpy import hstack\n",
        "from numpy import vstack\n",
        "from numpy import asarray\n",
        "from sklearn.datasets import make_blobs\n",
        "from sklearn.model_selection import KFold\n",
        "from sklearn.model_selection import train_test_split\n",
        "from sklearn.metrics import accuracy_score\n",
        "from sklearn.neighbors import KNeighborsClassifier\n",
        "from sklearn.linear_model import LogisticRegression\n",
        "from sklearn.tree import DecisionTreeClassifier\n",
        "from sklearn.svm import SVC\n",
        "from sklearn.naive_bayes import GaussianNB\n",
        "from sklearn.ensemble import AdaBoostClassifier\n",
        "from sklearn.ensemble import BaggingClassifier\n",
        "from sklearn.ensemble import RandomForestClassifier\n",
        "from sklearn.ensemble import ExtraTreesClassifier\n",
        " "
      ],
      "metadata": {
        "_uuid": "8f2839f25d086af736a60e9eeb907d3b93b6e0e5",
        "_cell_guid": "b1076dfc-b9ad-4769-8c92-a6c4dae69d19",
        "execution": {
          "iopub.status.busy": "2022-02-04T22:32:22.575506Z",
          "iopub.execute_input": "2022-02-04T22:32:22.576957Z",
          "iopub.status.idle": "2022-02-04T22:32:24.371147Z",
          "shell.execute_reply.started": "2022-02-04T22:32:22.576800Z",
          "shell.execute_reply": "2022-02-04T22:32:24.369948Z"
        },
        "trusted": true,
        "id": "xlQnmvyC5FMW"
      },
      "execution_count": 1,
      "outputs": []
    },
    {
      "cell_type": "code",
      "source": [
        "# tentang make_blobs\n",
        "X, y = make_blobs(n_samples=10, centers=3, n_features=2,random_state=1)\n",
        "print(X.shape)"
      ],
      "metadata": {
        "id": "jpR4p912Hq9y",
        "colab": {
          "base_uri": "https://localhost:8080/"
        },
        "outputId": "84be5851-a1af-4d78-e1d2-984c18036346"
      },
      "execution_count": 2,
      "outputs": [
        {
          "output_type": "stream",
          "name": "stdout",
          "text": [
            "(10, 2)\n"
          ]
        }
      ]
    },
    {
      "cell_type": "code",
      "source": [
        "\n",
        "a = np.array((1,2,3))\n",
        "b = np.array((4,5,6))\n",
        "print(a)\n",
        "np.hstack((a,b))"
      ],
      "metadata": {
        "colab": {
          "base_uri": "https://localhost:8080/"
        },
        "id": "vrU7pVwEgwAt",
        "outputId": "ea28700c-1a28-426d-b311-6030556d0d7f"
      },
      "execution_count": 3,
      "outputs": [
        {
          "output_type": "stream",
          "name": "stdout",
          "text": [
            "[1 2 3]\n"
          ]
        },
        {
          "output_type": "execute_result",
          "data": {
            "text/plain": [
              "array([1, 2, 3, 4, 5, 6])"
            ]
          },
          "metadata": {},
          "execution_count": 3
        }
      ]
    },
    {
      "cell_type": "code",
      "source": [
        "a = np.array((1, 2, 3))\n",
        "b = np.array((4, 5, 6))\n",
        "print(a.shape)\n",
        "np.vstack((a,b))\n"
      ],
      "metadata": {
        "colab": {
          "base_uri": "https://localhost:8080/"
        },
        "id": "j5_yMKAtiL2p",
        "outputId": "88926996-d95e-4b15-d781-702718259f2c"
      },
      "execution_count": 4,
      "outputs": [
        {
          "output_type": "stream",
          "name": "stdout",
          "text": [
            "(3,)\n"
          ]
        },
        {
          "output_type": "execute_result",
          "data": {
            "text/plain": [
              "array([[1, 2, 3],\n",
              "       [4, 5, 6]])"
            ]
          },
          "metadata": {},
          "execution_count": 4
        }
      ]
    },
    {
      "cell_type": "code",
      "source": [
        "a = (1, 2)\n",
        "b=np.asarray(a)\n",
        "b"
      ],
      "metadata": {
        "id": "MSZS-lpEjngT",
        "colab": {
          "base_uri": "https://localhost:8080/"
        },
        "outputId": "0e060cb3-c29d-4712-bbb8-0ff4d67c11ce"
      },
      "execution_count": 5,
      "outputs": [
        {
          "output_type": "execute_result",
          "data": {
            "text/plain": [
              "array([1, 2])"
            ]
          },
          "metadata": {},
          "execution_count": 5
        }
      ]
    },
    {
      "cell_type": "code",
      "source": [
        "a=list()\n",
        "b=list()\n",
        "d=list()\n",
        "e=list()\n",
        "a.append(10)\n",
        "print(a)\n",
        "a.append(20)\n",
        "a.append(5)\n",
        "print(\"List a berisi: \",a)\n",
        "c=np.asarray(a)\n",
        "print(\"a diubah menjadi array c: \", c)\n",
        "b.append(-1)\n",
        "#fungsi extend bersifat iterable dari append yang berulang ulang.\n",
        "b.extend([1])\n",
        "b.extend(a)\n",
        "print(\"List b adalah: \",b)\n",
        "c=hstack(b)\n",
        "print(\"dengan hstack b diubah dari list menjadi array :\",c)\n",
        "e=d.append(c)\n",
        "print(\"Hasil list d mengappend array c: \", e)"
      ],
      "metadata": {
        "id": "TFqoFUw9kLIo",
        "colab": {
          "base_uri": "https://localhost:8080/"
        },
        "outputId": "86dcfd54-a4b4-42ef-e794-44c1e4a59409"
      },
      "execution_count": 6,
      "outputs": [
        {
          "output_type": "stream",
          "name": "stdout",
          "text": [
            "[10]\n",
            "List a berisi:  [10, 20, 5]\n",
            "a diubah menjadi array c:  [10 20  5]\n",
            "List b adalah:  [-1, 1, 10, 20, 5]\n",
            "dengan hstack b diubah dari list menjadi array : [-1  1 10 20  5]\n",
            "Hasil list d mengappend array c:  None\n"
          ]
        }
      ]
    },
    {
      "cell_type": "code",
      "source": [
        "print(X)"
      ],
      "metadata": {
        "id": "1Yus6S-oH_VB",
        "outputId": "5b640f61-1a7b-44bd-9211-7e633ff938fa",
        "colab": {
          "base_uri": "https://localhost:8080/"
        }
      },
      "execution_count": 7,
      "outputs": [
        {
          "output_type": "stream",
          "name": "stdout",
          "text": [
            "[[ -7.23731039  -9.03108652]\n",
            " [ -8.16550136  -7.00850439]\n",
            " [ -7.02266844  -7.57041289]\n",
            " [ -8.86394306  -5.05323981]\n",
            " [  0.08525186   3.64528297]\n",
            " [ -0.79415228   2.10495117]\n",
            " [ -1.34052081   4.15711949]\n",
            " [-10.32012971  -4.3374029 ]\n",
            " [ -2.18773166   3.33352125]\n",
            " [ -8.53560457  -6.01348926]]\n"
          ]
        }
      ]
    },
    {
      "cell_type": "code",
      "source": [
        "print(y)"
      ],
      "metadata": {
        "id": "XdQOd6iUIPDy",
        "colab": {
          "base_uri": "https://localhost:8080/"
        },
        "outputId": "b32f8a4d-79c9-4619-a9e1-3f1ad74111fd"
      },
      "execution_count": 8,
      "outputs": [
        {
          "output_type": "stream",
          "name": "stdout",
          "text": [
            "[2 2 2 1 0 0 0 1 0 1]\n"
          ]
        }
      ]
    },
    {
      "cell_type": "code",
      "source": [
        "def get_models():\n",
        "\tmodels = list()\n",
        "\tmodels.append(LogisticRegression(solver='liblinear'))\n",
        "\tmodels.append(DecisionTreeClassifier())\n",
        "\tmodels.append(SVC(gamma='scale', probability=True))\n",
        "\tmodels.append(GaussianNB())\n",
        "\tmodels.append(KNeighborsClassifier())\n",
        "\tmodels.append(AdaBoostClassifier())\n",
        "\tmodels.append(BaggingClassifier(n_estimators=10))\n",
        "\tmodels.append(RandomForestClassifier(n_estimators=10))\n",
        "\tmodels.append(ExtraTreesClassifier(n_estimators=10))\n",
        "\treturn models\n",
        " \n",
        "\n",
        "def get_out_of_fold_predictions1(X, y, models):\n",
        "\tmeta_X, meta_y = list(), list()\n",
        "\ti=0\n",
        "\t\n",
        "\t#definisikan dulu model kfold yang mau digunakan\n",
        "\t\n",
        "\tkfold = KFold(n_splits=5, shuffle=True)\n",
        " \n",
        "\t#_ix di bawah ini menyatakan index\n",
        "\t# dengan settingan kfold ini maka jumlah data akan dibagi menjadi 10 fold, dimana 1 fold berjumlah 120 data\n",
        "\t# Dari 10 fold ini 9 akan dijadikan training dan 1 sisanya akan dijadikan testing. \n",
        "\t# Jadi train_ix akan berjumlah 9 x 120 record = 1080 record\n",
        "\t# test_ix akan berjumlah 120 record\n",
        "\n",
        "\tfor train_ix, test_ix in kfold.split(X):\n",
        "\t\ti=i+1\n",
        "\t\tprint(\"nilai i : \",i)\n",
        "\t\t#print(train_ix,test_ix)\n",
        "\t\tfold_yhats = list()\n",
        "\t\t# get data\n",
        "\t\ttrain_X, test_X = X[train_ix], X[test_ix]\n",
        "\t\ttrain_y, test_y = y[train_ix], y[test_ix]\n",
        "\t\tprint(\"nilai test_y : \",test_y)\n",
        "\t\tmeta_y.extend(test_y)\n",
        "\t\t# fit and make predictions with each sub-model\n",
        "\t\tj=0\n",
        "\t\tfor model in models:\n",
        "\t\t\tj=j+1\n",
        "\t\t\tprint(\"nilai j : \",j)\n",
        "\t\t\tmodel.fit(train_X, train_y)\n",
        "\t\t\tyhat = model.predict_proba(test_X)\n",
        "\t\t\tprint(\"yhat  : \",yhat.shape)\n",
        "\t\t\tprint(yhat)\n",
        "\t \t\t# Catatan jumlah kolom yhat mengikuti banyaknya kelas dalam dataset. Dalam hal ini 3 \n",
        "\t\t\tfold_yhats.append(yhat)\n",
        "\t \n",
        "\t\tprint(\"untuk i = \",i,\" Jumlah baris fold_yhats adalah :\", len(fold_yhats),\" Jumlah kolom fold_yhats adalah :\", len(fold_yhats[0]))\n",
        "\t\t#print(\"untuk i = \",i,\" fold_yhats adalah :\", fold_yhats)\t\n",
        "\t\tmeta_X.append(hstack(fold_yhats))\n",
        "\tprint(meta_X)\n",
        "\treturn vstack(meta_X), asarray(meta_y)\n",
        " \n",
        "\n",
        "def fit_base_models(X, y, models):\n",
        "\tfor model in models:\n",
        "\t\tmodel.fit(X, y)\n",
        " \n",
        "# fit a meta model\n",
        "def fit_meta_model(X, y):\n",
        "\tmodel = LogisticRegression(solver='liblinear')\n",
        "\tmodel.fit(X, y)\n",
        "\treturn model\n",
        " \n",
        "\n",
        "def evaluate_models(X, y, models):\n",
        "\tfor model in models:\n",
        "\t\tyhat = model.predict(X)\n",
        "\t\tacc = accuracy_score(y, yhat)\n",
        "\t\tprint('%s: %.3f' % (model.__class__.__name__, acc*100))\n",
        " \n",
        "#make predictions with stacked model\n",
        "def super_learner_predictions(X, models, meta_model):\n",
        "\tmeta_X = list()\n",
        "\tfor model in models:\n",
        "\t\tyhat = model.predict_proba(X) \n",
        "\t\tmeta_X.append(yhat)\n",
        "\tmeta_X = hstack(meta_X)\n",
        "\t# predict\n",
        "\treturn meta_model.predict(meta_X)"
      ],
      "metadata": {
        "execution": {
          "iopub.status.busy": "2022-02-04T22:32:39.709156Z",
          "iopub.execute_input": "2022-02-04T22:32:39.709890Z",
          "iopub.status.idle": "2022-02-04T22:32:39.728353Z",
          "shell.execute_reply.started": "2022-02-04T22:32:39.709827Z",
          "shell.execute_reply": "2022-02-04T22:32:39.726579Z"
        },
        "trusted": true,
        "id": "rY0unW7-5FMb"
      },
      "execution_count": 9,
      "outputs": []
    },
    {
      "cell_type": "code",
      "source": [
        "def get_out_of_fold_predictions(X, y, models):\n",
        "\tmeta_X, meta_y = list(), list()\n",
        "\t#definisikan dulu model kfold yang mau digunakan\n",
        "\t\n",
        "\tkfold = KFold(n_splits=10, shuffle=True)\n",
        " \n",
        "\t#_ix di bawah ini menyatakan index\n",
        "\t# dengan settingan kfold ini maka jumlah data akan dibagi menjadi 10 fold, dimana 1 fold berjumlah 120 data\n",
        "\t# Dari 10 fold ini 9 akan dijadikan training dan 1 sisanya akan dijadikan testing. \n",
        "\t# Jadi train_ix akan berjumlah 9 x 120 record = 1080 record\n",
        "\t# test_ix akan berjumlah 120 record\n",
        "\n",
        "\tfor train_ix, test_ix in kfold.split(X):\n",
        "\t\t\n",
        "\t\tfold_yhats = list()\n",
        "\t\t# get data\n",
        "\t\ttrain_X, test_X = X[train_ix], X[test_ix]\n",
        "\t\ttrain_y, test_y = y[train_ix], y[test_ix]\n",
        "\t\t\n",
        "\t\tmeta_y.extend(test_y)\n",
        "\t\t# fit and make predictions with each sub-model\n",
        "\t\t#Prediction dari setiap model disimpan sebagai attribut/fitur input dari superlearner model  \n",
        "\t\tfor model in models:\n",
        "\t\t\tmodel.fit(train_X, train_y)\n",
        "\t\t\tyhat = model.predict_proba(test_X)\n",
        "\t\t\t#print(\"yhat  : \",yhat.shape)\n",
        "\t \t\t# Catatan jumlah kolom yhat mengikuti banyaknya kelas dalam dataset. \n",
        "\t\t\tfold_yhats.append(yhat)\n",
        "\t\t#print(\"untuk i = \",i,\" Jumlah baris fold_yhats adalah :\", len(fold_yhats),\" Jumlah kolom fold_yhats adalah :\", len(fold_yhats[0]))\n",
        "\t\t#print(\"untuk i = \",i,\" fold_yhats adalah :\", fold_yhats)\t\n",
        "\t\tmeta_X.append(hstack(fold_yhats))\n",
        "\t#print(meta_X)\n",
        "\treturn vstack(meta_X), asarray(meta_y)\n",
        " "
      ],
      "metadata": {
        "id": "KYcQ9LPUzwxB"
      },
      "execution_count": 10,
      "outputs": []
    },
    {
      "cell_type": "code",
      "source": [
        "Model=get_models()\n",
        "print(Model)"
      ],
      "metadata": {
        "colab": {
          "base_uri": "https://localhost:8080/"
        },
        "id": "0DhkXE5W9bQS",
        "outputId": "9256fe64-6749-46e2-c766-87c0a3885ec4"
      },
      "execution_count": 11,
      "outputs": [
        {
          "output_type": "stream",
          "name": "stdout",
          "text": [
            "[LogisticRegression(solver='liblinear'), DecisionTreeClassifier(), SVC(probability=True), GaussianNB(), KNeighborsClassifier(), AdaBoostClassifier(), BaggingClassifier(), RandomForestClassifier(n_estimators=10), ExtraTreesClassifier(n_estimators=10)]\n"
          ]
        }
      ]
    },
    {
      "cell_type": "code",
      "source": [
        "Met_X, Met_y = get_out_of_fold_predictions1(X, y, Model)\n",
        "print(Met_X.shape)\n",
        "print(Met_y.shape)"
      ],
      "metadata": {
        "id": "dlbPbGcK-ISU",
        "outputId": "abcada4a-4832-4dd8-b1b6-9529e9d08c3c",
        "colab": {
          "base_uri": "https://localhost:8080/"
        }
      },
      "execution_count": 12,
      "outputs": [
        {
          "output_type": "stream",
          "name": "stdout",
          "text": [
            "nilai i :  1\n",
            "nilai test_y :  [1 1]\n",
            "nilai j :  1\n",
            "yhat  :  (2, 3)\n",
            "[[0.11708202 0.57722019 0.30569779]\n",
            " [0.01121107 0.28294983 0.7058391 ]]\n",
            "nilai j :  2\n",
            "yhat  :  (2, 3)\n",
            "[[0. 1. 0.]\n",
            " [0. 1. 0.]]\n",
            "nilai j :  3\n",
            "yhat  :  (2, 3)\n",
            "[[0.28914618 0.08779559 0.62305823]\n",
            " [0.22439878 0.11009357 0.66550766]]\n",
            "nilai j :  4\n",
            "yhat  :  (2, 3)\n",
            "[[2.07264073e-39 0.00000000e+00 1.00000000e+00]\n",
            " [1.36242252e-49 0.00000000e+00 1.00000000e+00]]\n",
            "nilai j :  5\n",
            "yhat  :  (2, 3)\n",
            "[[0.2 0.2 0.6]\n",
            " [0.2 0.2 0.6]]\n",
            "nilai j :  6\n",
            "yhat  :  (2, 3)\n",
            "[[5.45551773e-11 9.99999999e-01 6.02799776e-10]\n",
            " [5.45551773e-11 9.99999999e-01 6.02799776e-10]]\n",
            "nilai j :  7\n",
            "yhat  :  (2, 3)\n",
            "[[0. 1. 0.]\n",
            " [0. 1. 0.]]\n",
            "nilai j :  8\n",
            "yhat  :  (2, 3)\n",
            "[[0.  0.9 0.1]\n",
            " [0.  0.9 0.1]]\n",
            "nilai j :  9\n",
            "yhat  :  (2, 3)\n",
            "[[0.1 0.9 0. ]\n",
            " [0.  0.2 0.8]]\n",
            "untuk i =  1  Jumlah baris fold_yhats adalah : 9  Jumlah kolom fold_yhats adalah : 2\n",
            "nilai i :  2\n",
            "nilai test_y :  [2 0]\n",
            "nilai j :  1\n",
            "yhat  :  (2, 3)\n",
            "[[3.18161579e-04 3.86121444e-01 6.13560395e-01]\n",
            " [7.71062199e-01 2.01167001e-01 2.77708005e-02]]\n",
            "nilai j :  2\n",
            "yhat  :  (2, 3)\n",
            "[[0. 0. 1.]\n",
            " [1. 0. 0.]]\n",
            "nilai j :  3\n",
            "yhat  :  (2, 3)\n",
            "[[0.1602175  0.63965587 0.20012663]\n",
            " [0.69581176 0.14075152 0.16343672]]\n",
            "nilai j :  4\n",
            "yhat  :  (2, 3)\n",
            "[[1.24038935e-60 3.06293745e-01 6.93706255e-01]\n",
            " [1.00000000e+00 4.57329531e-66 0.00000000e+00]]\n",
            "nilai j :  5\n",
            "yhat  :  (2, 3)\n",
            "[[0.  0.6 0.4]\n",
            " [0.6 0.4 0. ]]\n",
            "nilai j :  6\n",
            "yhat  :  (2, 3)\n",
            "[[2.28003642e-10 1.39669258e-10 1.00000000e+00]\n",
            " [9.99999999e-01 6.06752088e-11 5.12230998e-10]]\n",
            "nilai j :  7\n",
            "yhat  :  (2, 3)\n",
            "[[0.  0.1 0.9]\n",
            " [1.  0.  0. ]]\n",
            "nilai j :  8\n",
            "yhat  :  (2, 3)\n",
            "[[0.  0.1 0.9]\n",
            " [0.9 0.1 0. ]]\n",
            "nilai j :  9\n",
            "yhat  :  (2, 3)\n",
            "[[0. 0. 1.]\n",
            " [1. 0. 0.]]\n",
            "untuk i =  2  Jumlah baris fold_yhats adalah : 9  Jumlah kolom fold_yhats adalah : 2\n",
            "nilai i :  3\n",
            "nilai test_y :  [2 1]\n",
            "nilai j :  1\n",
            "yhat  :  (2, 3)\n",
            "[[0.00247353 0.4947761  0.50275038]\n",
            " [0.01907837 0.8083172  0.17260443]]\n",
            "nilai j :  2\n",
            "yhat  :  (2, 3)\n",
            "[[0. 0. 1.]\n",
            " [0. 1. 0.]]\n",
            "nilai j :  3\n",
            "yhat  :  (2, 3)\n",
            "[[0.11318168 0.50902092 0.3777974 ]\n",
            " [0.13609893 0.3197763  0.54412477]]\n",
            "nilai j :  4\n",
            "yhat  :  (2, 3)\n",
            "[[1.93868797e-55 1.00000000e+00 3.60843581e-19]\n",
            " [3.12253066e-46 1.00000000e+00 1.24057513e-60]]\n",
            "nilai j :  5\n",
            "yhat  :  (2, 3)\n",
            "[[0.2 0.4 0.4]\n",
            " [0.2 0.4 0.4]]\n",
            "nilai j :  6\n",
            "yhat  :  (2, 3)\n",
            "[[3.59829657e-11 7.31012358e-02 9.26898764e-01]\n",
            " [2.71109874e-10 1.00000000e+00 6.80568519e-11]]\n",
            "nilai j :  7\n",
            "yhat  :  (2, 3)\n",
            "[[0.  0.3 0.7]\n",
            " [0.  0.9 0.1]]\n",
            "nilai j :  8\n",
            "yhat  :  (2, 3)\n",
            "[[0.  0.6 0.4]\n",
            " [0.  0.9 0.1]]\n",
            "nilai j :  9\n",
            "yhat  :  (2, 3)\n",
            "[[0.  0.3 0.7]\n",
            " [0.1 0.9 0. ]]\n",
            "untuk i =  3  Jumlah baris fold_yhats adalah : 9  Jumlah kolom fold_yhats adalah : 2\n",
            "nilai i :  4\n",
            "nilai test_y :  [0 0]\n",
            "nilai j :  1\n",
            "yhat  :  (2, 3)\n",
            "[[0.63544058 0.30675568 0.05780374]\n",
            " [0.62227861 0.37097043 0.00675096]]\n",
            "nilai j :  2\n",
            "yhat  :  (2, 3)\n",
            "[[1. 0. 0.]\n",
            " [1. 0. 0.]]\n",
            "nilai j :  3\n",
            "yhat  :  (2, 3)\n",
            "[[0.62159197 0.16928254 0.20912549]\n",
            " [0.62842068 0.16406917 0.20751015]]\n",
            "nilai j :  4\n",
            "yhat  :  (2, 3)\n",
            "[[1.00000000e+00 3.38152294e-40 2.40810607e-59]\n",
            " [1.00000000e+00 6.90018559e-50 5.37642450e-61]]\n",
            "nilai j :  5\n",
            "yhat  :  (2, 3)\n",
            "[[0.4 0.6 0. ]\n",
            " [0.4 0.6 0. ]]\n",
            "nilai j :  6\n",
            "yhat  :  (2, 3)\n",
            "[[1.00000000e+00 1.67250493e-10 1.10884544e-10]\n",
            " [1.00000000e+00 1.67250493e-10 1.10884544e-10]]\n",
            "nilai j :  7\n",
            "yhat  :  (2, 3)\n",
            "[[0.9 0.  0.1]\n",
            " [0.9 0.  0.1]]\n",
            "nilai j :  8\n",
            "yhat  :  (2, 3)\n",
            "[[0.9 0.  0.1]\n",
            " [0.9 0.  0.1]]\n",
            "nilai j :  9\n",
            "yhat  :  (2, 3)\n",
            "[[1. 0. 0.]\n",
            " [1. 0. 0.]]\n",
            "untuk i =  4  Jumlah baris fold_yhats adalah : 9  Jumlah kolom fold_yhats adalah : 2\n",
            "nilai i :  5\n",
            "nilai test_y :  [2 0]\n",
            "nilai j :  1\n",
            "yhat  :  (2, 3)\n",
            "[[0.00113966 0.37786533 0.620995  ]\n",
            " [0.72265573 0.27078556 0.00655871]]\n",
            "nilai j :  2\n",
            "yhat  :  (2, 3)\n",
            "[[0. 0. 1.]\n",
            " [1. 0. 0.]]\n",
            "nilai j :  3\n",
            "yhat  :  (2, 3)\n",
            "[[0.13518342 0.69307638 0.17174019]\n",
            " [0.68921327 0.17353991 0.13724681]]\n",
            "nilai j :  4\n",
            "yhat  :  (2, 3)\n",
            "[[1.98280623e-64 1.32265455e-04 9.99867735e-01]\n",
            " [1.00000000e+00 2.74620736e-62 2.15032222e-72]]\n",
            "nilai j :  5\n",
            "yhat  :  (2, 3)\n",
            "[[0.  0.6 0.4]\n",
            " [0.6 0.4 0. ]]\n",
            "nilai j :  6\n",
            "yhat  :  (2, 3)\n",
            "[[2.28003642e-10 1.39669258e-10 1.00000000e+00]\n",
            " [9.99999999e-01 6.06752088e-11 5.12230998e-10]]\n",
            "nilai j :  7\n",
            "yhat  :  (2, 3)\n",
            "[[0.  0.1 0.9]\n",
            " [1.  0.  0. ]]\n",
            "nilai j :  8\n",
            "yhat  :  (2, 3)\n",
            "[[0.  0.1 0.9]\n",
            " [0.8 0.2 0. ]]\n",
            "nilai j :  9\n",
            "yhat  :  (2, 3)\n",
            "[[0. 0. 1.]\n",
            " [1. 0. 0.]]\n",
            "untuk i =  5  Jumlah baris fold_yhats adalah : 9  Jumlah kolom fold_yhats adalah : 2\n",
            "[array([[1.17082017e-01, 5.77220194e-01, 3.05697789e-01, 0.00000000e+00,\n",
            "        1.00000000e+00, 0.00000000e+00, 2.89146181e-01, 8.77955878e-02,\n",
            "        6.23058231e-01, 2.07264073e-39, 0.00000000e+00, 1.00000000e+00,\n",
            "        2.00000000e-01, 2.00000000e-01, 6.00000000e-01, 5.45551773e-11,\n",
            "        9.99999999e-01, 6.02799776e-10, 0.00000000e+00, 1.00000000e+00,\n",
            "        0.00000000e+00, 0.00000000e+00, 9.00000000e-01, 1.00000000e-01,\n",
            "        1.00000000e-01, 9.00000000e-01, 0.00000000e+00],\n",
            "       [1.12110727e-02, 2.82949832e-01, 7.05839095e-01, 0.00000000e+00,\n",
            "        1.00000000e+00, 0.00000000e+00, 2.24398775e-01, 1.10093570e-01,\n",
            "        6.65507655e-01, 1.36242252e-49, 0.00000000e+00, 1.00000000e+00,\n",
            "        2.00000000e-01, 2.00000000e-01, 6.00000000e-01, 5.45551773e-11,\n",
            "        9.99999999e-01, 6.02799776e-10, 0.00000000e+00, 1.00000000e+00,\n",
            "        0.00000000e+00, 0.00000000e+00, 9.00000000e-01, 1.00000000e-01,\n",
            "        0.00000000e+00, 2.00000000e-01, 8.00000000e-01]]), array([[3.18161579e-04, 3.86121444e-01, 6.13560395e-01, 0.00000000e+00,\n",
            "        0.00000000e+00, 1.00000000e+00, 1.60217500e-01, 6.39655871e-01,\n",
            "        2.00126630e-01, 1.24038935e-60, 3.06293745e-01, 6.93706255e-01,\n",
            "        0.00000000e+00, 6.00000000e-01, 4.00000000e-01, 2.28003642e-10,\n",
            "        1.39669258e-10, 1.00000000e+00, 0.00000000e+00, 1.00000000e-01,\n",
            "        9.00000000e-01, 0.00000000e+00, 1.00000000e-01, 9.00000000e-01,\n",
            "        0.00000000e+00, 0.00000000e+00, 1.00000000e+00],\n",
            "       [7.71062199e-01, 2.01167001e-01, 2.77708005e-02, 1.00000000e+00,\n",
            "        0.00000000e+00, 0.00000000e+00, 6.95811761e-01, 1.40751518e-01,\n",
            "        1.63436721e-01, 1.00000000e+00, 4.57329531e-66, 0.00000000e+00,\n",
            "        6.00000000e-01, 4.00000000e-01, 0.00000000e+00, 9.99999999e-01,\n",
            "        6.06752088e-11, 5.12230998e-10, 1.00000000e+00, 0.00000000e+00,\n",
            "        0.00000000e+00, 9.00000000e-01, 1.00000000e-01, 0.00000000e+00,\n",
            "        1.00000000e+00, 0.00000000e+00, 0.00000000e+00]]), array([[2.47352847e-03, 4.94776096e-01, 5.02750375e-01, 0.00000000e+00,\n",
            "        0.00000000e+00, 1.00000000e+00, 1.13181680e-01, 5.09020917e-01,\n",
            "        3.77797404e-01, 1.93868797e-55, 1.00000000e+00, 3.60843581e-19,\n",
            "        2.00000000e-01, 4.00000000e-01, 4.00000000e-01, 3.59829657e-11,\n",
            "        7.31012358e-02, 9.26898764e-01, 0.00000000e+00, 3.00000000e-01,\n",
            "        7.00000000e-01, 0.00000000e+00, 6.00000000e-01, 4.00000000e-01,\n",
            "        0.00000000e+00, 3.00000000e-01, 7.00000000e-01],\n",
            "       [1.90783742e-02, 8.08317195e-01, 1.72604431e-01, 0.00000000e+00,\n",
            "        1.00000000e+00, 0.00000000e+00, 1.36098927e-01, 3.19776304e-01,\n",
            "        5.44124769e-01, 3.12253066e-46, 1.00000000e+00, 1.24057513e-60,\n",
            "        2.00000000e-01, 4.00000000e-01, 4.00000000e-01, 2.71109874e-10,\n",
            "        1.00000000e+00, 6.80568519e-11, 0.00000000e+00, 9.00000000e-01,\n",
            "        1.00000000e-01, 0.00000000e+00, 9.00000000e-01, 1.00000000e-01,\n",
            "        1.00000000e-01, 9.00000000e-01, 0.00000000e+00]]), array([[6.35440582e-01, 3.06755680e-01, 5.78037378e-02, 1.00000000e+00,\n",
            "        0.00000000e+00, 0.00000000e+00, 6.21591969e-01, 1.69282542e-01,\n",
            "        2.09125489e-01, 1.00000000e+00, 3.38152294e-40, 2.40810607e-59,\n",
            "        4.00000000e-01, 6.00000000e-01, 0.00000000e+00, 1.00000000e+00,\n",
            "        1.67250493e-10, 1.10884544e-10, 9.00000000e-01, 0.00000000e+00,\n",
            "        1.00000000e-01, 9.00000000e-01, 0.00000000e+00, 1.00000000e-01,\n",
            "        1.00000000e+00, 0.00000000e+00, 0.00000000e+00],\n",
            "       [6.22278612e-01, 3.70970428e-01, 6.75095994e-03, 1.00000000e+00,\n",
            "        0.00000000e+00, 0.00000000e+00, 6.28420676e-01, 1.64069172e-01,\n",
            "        2.07510151e-01, 1.00000000e+00, 6.90018559e-50, 5.37642450e-61,\n",
            "        4.00000000e-01, 6.00000000e-01, 0.00000000e+00, 1.00000000e+00,\n",
            "        1.67250493e-10, 1.10884544e-10, 9.00000000e-01, 0.00000000e+00,\n",
            "        1.00000000e-01, 9.00000000e-01, 0.00000000e+00, 1.00000000e-01,\n",
            "        1.00000000e+00, 0.00000000e+00, 0.00000000e+00]]), array([[1.13966484e-03, 3.77865334e-01, 6.20995001e-01, 0.00000000e+00,\n",
            "        0.00000000e+00, 1.00000000e+00, 1.35183425e-01, 6.93076381e-01,\n",
            "        1.71740194e-01, 1.98280623e-64, 1.32265455e-04, 9.99867735e-01,\n",
            "        0.00000000e+00, 6.00000000e-01, 4.00000000e-01, 2.28003642e-10,\n",
            "        1.39669258e-10, 1.00000000e+00, 0.00000000e+00, 1.00000000e-01,\n",
            "        9.00000000e-01, 0.00000000e+00, 1.00000000e-01, 9.00000000e-01,\n",
            "        0.00000000e+00, 0.00000000e+00, 1.00000000e+00],\n",
            "       [7.22655727e-01, 2.70785564e-01, 6.55870947e-03, 1.00000000e+00,\n",
            "        0.00000000e+00, 0.00000000e+00, 6.89213273e-01, 1.73539915e-01,\n",
            "        1.37246812e-01, 1.00000000e+00, 2.74620736e-62, 2.15032222e-72,\n",
            "        6.00000000e-01, 4.00000000e-01, 0.00000000e+00, 9.99999999e-01,\n",
            "        6.06752088e-11, 5.12230998e-10, 1.00000000e+00, 0.00000000e+00,\n",
            "        0.00000000e+00, 8.00000000e-01, 2.00000000e-01, 0.00000000e+00,\n",
            "        1.00000000e+00, 0.00000000e+00, 0.00000000e+00]])]\n",
            "(10, 27)\n",
            "(10,)\n"
          ]
        }
      ]
    },
    {
      "cell_type": "code",
      "source": [
        "print(Met_X)"
      ],
      "metadata": {
        "id": "ply8DJ-YxTx2",
        "outputId": "c72c17fe-f146-49cb-9262-ee7097490820",
        "colab": {
          "base_uri": "https://localhost:8080/"
        }
      },
      "execution_count": 13,
      "outputs": [
        {
          "output_type": "stream",
          "name": "stdout",
          "text": [
            "[[1.17082017e-01 5.77220194e-01 3.05697789e-01 0.00000000e+00\n",
            "  1.00000000e+00 0.00000000e+00 2.89146181e-01 8.77955878e-02\n",
            "  6.23058231e-01 2.07264073e-39 0.00000000e+00 1.00000000e+00\n",
            "  2.00000000e-01 2.00000000e-01 6.00000000e-01 5.45551773e-11\n",
            "  9.99999999e-01 6.02799776e-10 0.00000000e+00 1.00000000e+00\n",
            "  0.00000000e+00 0.00000000e+00 9.00000000e-01 1.00000000e-01\n",
            "  1.00000000e-01 9.00000000e-01 0.00000000e+00]\n",
            " [1.12110727e-02 2.82949832e-01 7.05839095e-01 0.00000000e+00\n",
            "  1.00000000e+00 0.00000000e+00 2.24398775e-01 1.10093570e-01\n",
            "  6.65507655e-01 1.36242252e-49 0.00000000e+00 1.00000000e+00\n",
            "  2.00000000e-01 2.00000000e-01 6.00000000e-01 5.45551773e-11\n",
            "  9.99999999e-01 6.02799776e-10 0.00000000e+00 1.00000000e+00\n",
            "  0.00000000e+00 0.00000000e+00 9.00000000e-01 1.00000000e-01\n",
            "  0.00000000e+00 2.00000000e-01 8.00000000e-01]\n",
            " [3.18161579e-04 3.86121444e-01 6.13560395e-01 0.00000000e+00\n",
            "  0.00000000e+00 1.00000000e+00 1.60217500e-01 6.39655871e-01\n",
            "  2.00126630e-01 1.24038935e-60 3.06293745e-01 6.93706255e-01\n",
            "  0.00000000e+00 6.00000000e-01 4.00000000e-01 2.28003642e-10\n",
            "  1.39669258e-10 1.00000000e+00 0.00000000e+00 1.00000000e-01\n",
            "  9.00000000e-01 0.00000000e+00 1.00000000e-01 9.00000000e-01\n",
            "  0.00000000e+00 0.00000000e+00 1.00000000e+00]\n",
            " [7.71062199e-01 2.01167001e-01 2.77708005e-02 1.00000000e+00\n",
            "  0.00000000e+00 0.00000000e+00 6.95811761e-01 1.40751518e-01\n",
            "  1.63436721e-01 1.00000000e+00 4.57329531e-66 0.00000000e+00\n",
            "  6.00000000e-01 4.00000000e-01 0.00000000e+00 9.99999999e-01\n",
            "  6.06752088e-11 5.12230998e-10 1.00000000e+00 0.00000000e+00\n",
            "  0.00000000e+00 9.00000000e-01 1.00000000e-01 0.00000000e+00\n",
            "  1.00000000e+00 0.00000000e+00 0.00000000e+00]\n",
            " [2.47352847e-03 4.94776096e-01 5.02750375e-01 0.00000000e+00\n",
            "  0.00000000e+00 1.00000000e+00 1.13181680e-01 5.09020917e-01\n",
            "  3.77797404e-01 1.93868797e-55 1.00000000e+00 3.60843581e-19\n",
            "  2.00000000e-01 4.00000000e-01 4.00000000e-01 3.59829657e-11\n",
            "  7.31012358e-02 9.26898764e-01 0.00000000e+00 3.00000000e-01\n",
            "  7.00000000e-01 0.00000000e+00 6.00000000e-01 4.00000000e-01\n",
            "  0.00000000e+00 3.00000000e-01 7.00000000e-01]\n",
            " [1.90783742e-02 8.08317195e-01 1.72604431e-01 0.00000000e+00\n",
            "  1.00000000e+00 0.00000000e+00 1.36098927e-01 3.19776304e-01\n",
            "  5.44124769e-01 3.12253066e-46 1.00000000e+00 1.24057513e-60\n",
            "  2.00000000e-01 4.00000000e-01 4.00000000e-01 2.71109874e-10\n",
            "  1.00000000e+00 6.80568519e-11 0.00000000e+00 9.00000000e-01\n",
            "  1.00000000e-01 0.00000000e+00 9.00000000e-01 1.00000000e-01\n",
            "  1.00000000e-01 9.00000000e-01 0.00000000e+00]\n",
            " [6.35440582e-01 3.06755680e-01 5.78037378e-02 1.00000000e+00\n",
            "  0.00000000e+00 0.00000000e+00 6.21591969e-01 1.69282542e-01\n",
            "  2.09125489e-01 1.00000000e+00 3.38152294e-40 2.40810607e-59\n",
            "  4.00000000e-01 6.00000000e-01 0.00000000e+00 1.00000000e+00\n",
            "  1.67250493e-10 1.10884544e-10 9.00000000e-01 0.00000000e+00\n",
            "  1.00000000e-01 9.00000000e-01 0.00000000e+00 1.00000000e-01\n",
            "  1.00000000e+00 0.00000000e+00 0.00000000e+00]\n",
            " [6.22278612e-01 3.70970428e-01 6.75095994e-03 1.00000000e+00\n",
            "  0.00000000e+00 0.00000000e+00 6.28420676e-01 1.64069172e-01\n",
            "  2.07510151e-01 1.00000000e+00 6.90018559e-50 5.37642450e-61\n",
            "  4.00000000e-01 6.00000000e-01 0.00000000e+00 1.00000000e+00\n",
            "  1.67250493e-10 1.10884544e-10 9.00000000e-01 0.00000000e+00\n",
            "  1.00000000e-01 9.00000000e-01 0.00000000e+00 1.00000000e-01\n",
            "  1.00000000e+00 0.00000000e+00 0.00000000e+00]\n",
            " [1.13966484e-03 3.77865334e-01 6.20995001e-01 0.00000000e+00\n",
            "  0.00000000e+00 1.00000000e+00 1.35183425e-01 6.93076381e-01\n",
            "  1.71740194e-01 1.98280623e-64 1.32265455e-04 9.99867735e-01\n",
            "  0.00000000e+00 6.00000000e-01 4.00000000e-01 2.28003642e-10\n",
            "  1.39669258e-10 1.00000000e+00 0.00000000e+00 1.00000000e-01\n",
            "  9.00000000e-01 0.00000000e+00 1.00000000e-01 9.00000000e-01\n",
            "  0.00000000e+00 0.00000000e+00 1.00000000e+00]\n",
            " [7.22655727e-01 2.70785564e-01 6.55870947e-03 1.00000000e+00\n",
            "  0.00000000e+00 0.00000000e+00 6.89213273e-01 1.73539915e-01\n",
            "  1.37246812e-01 1.00000000e+00 2.74620736e-62 2.15032222e-72\n",
            "  6.00000000e-01 4.00000000e-01 0.00000000e+00 9.99999999e-01\n",
            "  6.06752088e-11 5.12230998e-10 1.00000000e+00 0.00000000e+00\n",
            "  0.00000000e+00 8.00000000e-01 2.00000000e-01 0.00000000e+00\n",
            "  1.00000000e+00 0.00000000e+00 0.00000000e+00]]\n"
          ]
        }
      ]
    },
    {
      "cell_type": "code",
      "source": [
        "# Membangkitkan dataset klasifikasi dengan dua kelas, 2000 record dan 200 features\n",
        "X, y = make_blobs(n_samples=2000, centers=2, n_features=200, cluster_std=20,random_state=1)"
      ],
      "metadata": {
        "id": "WP0cwsLCXe0V"
      },
      "execution_count": 14,
      "outputs": []
    },
    {
      "cell_type": "code",
      "source": [
        "# split\n",
        "X, X_val, y, y_val = train_test_split(X, y, test_size=0.40)\n",
        "# dengan pembagian ini, 60%  data (1200) dipakai sebagai data training dan sisanya 800 data dipakai sebagai data untuk validasi.\n",
        "print('Train', X.shape, y.shape, 'Test', X_val.shape, y_val.shape)"
      ],
      "metadata": {
        "colab": {
          "base_uri": "https://localhost:8080/"
        },
        "id": "6QNk2eEuXkGo",
        "outputId": "606ab9e6-b70f-4bd6-e307-e981adea94ca"
      },
      "execution_count": 15,
      "outputs": [
        {
          "output_type": "stream",
          "name": "stdout",
          "text": [
            "Train (1200, 200) (1200,) Test (800, 200) (800,)\n"
          ]
        }
      ]
    },
    {
      "cell_type": "code",
      "source": [
        "# Inisiasi models dengan get models\n",
        "models = get_models()"
      ],
      "metadata": {
        "id": "u-A3Ds4YXvzr"
      },
      "execution_count": 16,
      "outputs": []
    },
    {
      "cell_type": "code",
      "source": [
        "# Jalankan fungsi get out of fold predictions untuk membangkitkan input bagi superlearner\n",
        "# Prediksi dari base learner akan menjadi atribut bagi superlearner\n",
        "# jumlah record untuk superlearner adalah jumlah data test setiap Fold dikalikan dengan jumlah Fold. \n",
        "# Jadi jika k=10, dalam setiap Fold, data test berjumlah 120. Diperoleh dari 1200/10. Karena ada 10 fold, maka datatest berjumlah 10*120=1200 baris. \n",
        "\n",
        "meta_X, meta_y = get_out_of_fold_predictions(X, y, models)\n",
        "print('Meta ', meta_X.shape, meta_y.shape)\n",
        "\n",
        "#print(meta_X)\n",
        "#Jumlah kolom/atribut hasil adalah sebesar 18.\n",
        "# 18 berasal dari 9 model memprediksi peluang 2 kelas, yaitu kelas 0 dan 1\n",
        "# Jumlah baris adalah 10*120=1200. "
      ],
      "metadata": {
        "colab": {
          "base_uri": "https://localhost:8080/"
        },
        "id": "I2BcVeYKX2s-",
        "outputId": "8d0b2bd5-8774-448e-a7f8-5938a33703e3"
      },
      "execution_count": 17,
      "outputs": [
        {
          "output_type": "stream",
          "name": "stdout",
          "text": [
            "Meta  (1200, 18) (1200,)\n"
          ]
        }
      ]
    },
    {
      "cell_type": "code",
      "source": [
        "# fit base models\n",
        "# Tahapan ini adalah membandingkan akurasi antara base models dan superlearner model.\n",
        "fit_base_models(X, y, models)\n",
        "# fit the meta model\n",
        "# Metamodel difit menggunakan k-fold prediction yang dihasilkan oleh base learner.\n",
        "meta_model = fit_meta_model(meta_X, meta_y)"
      ],
      "metadata": {
        "id": "z-eec0m5X-XR"
      },
      "execution_count": 18,
      "outputs": []
    },
    {
      "cell_type": "code",
      "source": [
        "# evaluate base models\n",
        "# disini base models dievaluasi keakuratan prediksi kelas.\n",
        "evaluate_models(X_val, y_val, models)"
      ],
      "metadata": {
        "colab": {
          "base_uri": "https://localhost:8080/"
        },
        "id": "aMm8xn-AYDzc",
        "outputId": "6cebcecc-faf4-4385-c69a-98ebb11954b8"
      },
      "execution_count": 19,
      "outputs": [
        {
          "output_type": "stream",
          "name": "stdout",
          "text": [
            "LogisticRegression: 99.875\n",
            "DecisionTreeClassifier: 78.375\n",
            "SVC: 99.875\n",
            "GaussianNB: 99.875\n",
            "KNeighborsClassifier: 98.750\n",
            "AdaBoostClassifier: 96.625\n",
            "BaggingClassifier: 87.375\n",
            "RandomForestClassifier: 88.500\n",
            "ExtraTreesClassifier: 91.125\n"
          ]
        }
      ]
    },
    {
      "cell_type": "code",
      "source": [
        "# evaluate meta model\n",
        "# Sebelum meta model melakukan prediksi terhadap X_Val, base models diberi kesempatan dulu untuk melakukan \n",
        "# Predict_proba terhadap X_Val. Hasil predict_proba ini menjadi input bagi superlearner.\n",
        "\n",
        "yhat = super_learner_predictions(X_val, models, meta_model)\n",
        "print('Akurasi Super Learner: %.3f' % (accuracy_score(y_val, yhat) * 100))"
      ],
      "metadata": {
        "execution": {
          "iopub.status.busy": "2022-02-04T22:32:48.217571Z",
          "iopub.execute_input": "2022-02-04T22:32:48.218055Z",
          "iopub.status.idle": "2022-02-04T22:33:27.865336Z",
          "shell.execute_reply.started": "2022-02-04T22:32:48.218008Z",
          "shell.execute_reply": "2022-02-04T22:33:27.856886Z"
        },
        "trusted": true,
        "colab": {
          "base_uri": "https://localhost:8080/"
        },
        "id": "XJt6AdyI5FMf",
        "outputId": "a09364cf-69a9-441d-944c-cb1e7e8b4834"
      },
      "execution_count": 20,
      "outputs": [
        {
          "output_type": "stream",
          "name": "stdout",
          "text": [
            "Akurasi Super Learner: 99.750\n"
          ]
        }
      ]
    }
  ]
}