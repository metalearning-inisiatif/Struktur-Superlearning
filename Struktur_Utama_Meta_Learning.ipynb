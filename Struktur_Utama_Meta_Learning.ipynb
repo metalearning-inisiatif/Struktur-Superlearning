{
  "metadata": {
    "kernelspec": {
      "language": "python",
      "display_name": "Python 3",
      "name": "python3"
    },
    "language_info": {
      "name": "python",
      "version": "3.7.10",
      "mimetype": "text/x-python",
      "codemirror_mode": {
        "name": "ipython",
        "version": 3
      },
      "pygments_lexer": "ipython3",
      "nbconvert_exporter": "python",
      "file_extension": ".py"
    },
    "colab": {
      "name": "Struktur Utama Meta Learning.ipynb",
      "provenance": [],
      "machine_shape": "hm",
      "include_colab_link": true
    }
  },
  "nbformat_minor": 0,
  "nbformat": 4,
  "cells": [
    {
      "cell_type": "markdown",
      "metadata": {
        "id": "view-in-github",
        "colab_type": "text"
      },
      "source": [
        "<a href=\"https://colab.research.google.com/github/metalearning-inisiatif/Struktur-Superlearning/blob/main/Struktur_Utama_Meta_Learning.ipynb\" target=\"_parent\"><img src=\"https://colab.research.google.com/assets/colab-badge.svg\" alt=\"Open In Colab\"/></a>"
      ]
    },
    {
      "cell_type": "code",
      "source": [
        "import numpy as np # linear algebra\n",
        "import pandas as pd # data processing, CSV file I/O (e.g. pd.read_csv)\n",
        "\n",
        "from numpy import hstack\n",
        "from numpy import vstack\n",
        "from numpy import asarray\n",
        "from sklearn.datasets import make_blobs\n",
        "from sklearn.model_selection import KFold\n",
        "from sklearn.model_selection import train_test_split\n",
        "from sklearn.metrics import accuracy_score\n",
        "from sklearn.neighbors import KNeighborsClassifier\n",
        "from sklearn.linear_model import LogisticRegression\n",
        "from sklearn.tree import DecisionTreeClassifier\n",
        "from sklearn.svm import SVC\n",
        "from sklearn.naive_bayes import GaussianNB\n",
        "from sklearn.ensemble import AdaBoostClassifier\n",
        "from sklearn.ensemble import BaggingClassifier\n",
        "from sklearn.ensemble import RandomForestClassifier\n",
        "from sklearn.ensemble import ExtraTreesClassifier\n",
        " "
      ],
      "metadata": {
        "_uuid": "8f2839f25d086af736a60e9eeb907d3b93b6e0e5",
        "_cell_guid": "b1076dfc-b9ad-4769-8c92-a6c4dae69d19",
        "execution": {
          "iopub.status.busy": "2022-02-04T22:32:22.575506Z",
          "iopub.execute_input": "2022-02-04T22:32:22.576957Z",
          "iopub.status.idle": "2022-02-04T22:32:24.371147Z",
          "shell.execute_reply.started": "2022-02-04T22:32:22.576800Z",
          "shell.execute_reply": "2022-02-04T22:32:24.369948Z"
        },
        "trusted": true,
        "id": "xlQnmvyC5FMW"
      },
      "execution_count": 2,
      "outputs": []
    },
    {
      "cell_type": "code",
      "source": [
        "# tentang make_blobs\n",
        "X, y = make_blobs(n_samples=10, centers=3, n_features=2,random_state=1)\n",
        "print(X.shape)"
      ],
      "metadata": {
        "id": "jpR4p912Hq9y",
        "colab": {
          "base_uri": "https://localhost:8080/"
        },
        "outputId": "56da1f3c-945a-4022-f2e4-4a01dc06709b"
      },
      "execution_count": 3,
      "outputs": [
        {
          "output_type": "stream",
          "name": "stdout",
          "text": [
            "(10, 2)\n"
          ]
        }
      ]
    },
    {
      "cell_type": "code",
      "source": [
        "\n",
        "a = np.array((1,2,3))\n",
        "b = np.array((4,5,6))\n",
        "print(a)\n",
        "np.hstack((a,b))"
      ],
      "metadata": {
        "colab": {
          "base_uri": "https://localhost:8080/"
        },
        "id": "vrU7pVwEgwAt",
        "outputId": "5009088a-372b-4366-ccda-03d1d7aa4195"
      },
      "execution_count": 4,
      "outputs": [
        {
          "output_type": "stream",
          "name": "stdout",
          "text": [
            "[1 2 3]\n"
          ]
        },
        {
          "output_type": "execute_result",
          "data": {
            "text/plain": [
              "array([1, 2, 3, 4, 5, 6])"
            ]
          },
          "metadata": {},
          "execution_count": 4
        }
      ]
    },
    {
      "cell_type": "code",
      "source": [
        "a = np.array((1, 2, 3))\n",
        "b = np.array((4, 5, 6))\n",
        "print(a.shape)\n",
        "np.vstack((a,b))\n"
      ],
      "metadata": {
        "colab": {
          "base_uri": "https://localhost:8080/"
        },
        "id": "j5_yMKAtiL2p",
        "outputId": "819271e3-6821-4413-d0f5-cc17a5803095"
      },
      "execution_count": 5,
      "outputs": [
        {
          "output_type": "stream",
          "name": "stdout",
          "text": [
            "(3,)\n"
          ]
        },
        {
          "output_type": "execute_result",
          "data": {
            "text/plain": [
              "array([[1, 2, 3],\n",
              "       [4, 5, 6]])"
            ]
          },
          "metadata": {},
          "execution_count": 5
        }
      ]
    },
    {
      "cell_type": "code",
      "source": [
        "a = (1, 2)\n",
        "b=np.asarray(a)\n",
        "b"
      ],
      "metadata": {
        "id": "MSZS-lpEjngT",
        "colab": {
          "base_uri": "https://localhost:8080/"
        },
        "outputId": "8c3a9a0b-a4f4-404d-915c-79dc12ccb267"
      },
      "execution_count": 6,
      "outputs": [
        {
          "output_type": "execute_result",
          "data": {
            "text/plain": [
              "array([1, 2])"
            ]
          },
          "metadata": {},
          "execution_count": 6
        }
      ]
    },
    {
      "cell_type": "code",
      "source": [
        "a=list()\n",
        "b=list()\n",
        "d=list()\n",
        "e=list()\n",
        "a.append(10)\n",
        "print(a)\n",
        "a.append(20)\n",
        "a.append(5)\n",
        "print(\"List a berisi: \",a)\n",
        "c=np.asarray(a)\n",
        "print(\"a diubah menjadi array c: \", c)\n",
        "b.append(-1)\n",
        "#fungsi extend bersifat iterable dari append yang berulang ulang.\n",
        "b.extend([1])\n",
        "b.extend(a)\n",
        "print(\"List b adalah: \",b)\n",
        "c=hstack(b)\n",
        "print(\"dengan hstack b diubah dari list menjadi array :\",c)\n",
        "e=d.append(c)\n",
        "print(\"Hasil list d mengappend array c: \", e)"
      ],
      "metadata": {
        "id": "TFqoFUw9kLIo",
        "colab": {
          "base_uri": "https://localhost:8080/"
        },
        "outputId": "c6450b2a-118c-45c4-9217-45f111129576"
      },
      "execution_count": 7,
      "outputs": [
        {
          "output_type": "stream",
          "name": "stdout",
          "text": [
            "[10]\n",
            "List a berisi:  [10, 20, 5]\n",
            "a diubah menjadi array c:  [10 20  5]\n",
            "List b adalah:  [-1, 1, 10, 20, 5]\n",
            "dengan hstack b diubah dari list menjadi array : [-1  1 10 20  5]\n",
            "Hasil list d mengappend array c:  None\n"
          ]
        }
      ]
    },
    {
      "cell_type": "code",
      "source": [
        "print(X)"
      ],
      "metadata": {
        "id": "1Yus6S-oH_VB",
        "outputId": "5f6e2ba4-e48b-4539-db07-c01e52064cd3",
        "colab": {
          "base_uri": "https://localhost:8080/"
        }
      },
      "execution_count": 8,
      "outputs": [
        {
          "output_type": "stream",
          "name": "stdout",
          "text": [
            "[[ -7.23731039  -9.03108652]\n",
            " [ -8.16550136  -7.00850439]\n",
            " [ -7.02266844  -7.57041289]\n",
            " [ -8.86394306  -5.05323981]\n",
            " [  0.08525186   3.64528297]\n",
            " [ -0.79415228   2.10495117]\n",
            " [ -1.34052081   4.15711949]\n",
            " [-10.32012971  -4.3374029 ]\n",
            " [ -2.18773166   3.33352125]\n",
            " [ -8.53560457  -6.01348926]]\n"
          ]
        }
      ]
    },
    {
      "cell_type": "code",
      "source": [
        "print(y)"
      ],
      "metadata": {
        "id": "XdQOd6iUIPDy",
        "colab": {
          "base_uri": "https://localhost:8080/"
        },
        "outputId": "3cd31711-89c4-4474-866e-159a88a5c29c"
      },
      "execution_count": 9,
      "outputs": [
        {
          "output_type": "stream",
          "name": "stdout",
          "text": [
            "[2 2 2 1 0 0 0 1 0 1]\n"
          ]
        }
      ]
    },
    {
      "cell_type": "code",
      "source": [
        "def get_models():\n",
        "\tmodels = list()\n",
        "\tmodels.append(LogisticRegression(solver='liblinear'))\n",
        "\tmodels.append(DecisionTreeClassifier())\n",
        "\tmodels.append(SVC(gamma='scale', probability=True))\n",
        "\tmodels.append(GaussianNB())\n",
        "\tmodels.append(KNeighborsClassifier())\n",
        "\tmodels.append(AdaBoostClassifier())\n",
        "\tmodels.append(BaggingClassifier(n_estimators=10))\n",
        "\tmodels.append(RandomForestClassifier(n_estimators=10))\n",
        "\tmodels.append(ExtraTreesClassifier(n_estimators=10))\n",
        "\treturn models\n",
        " \n",
        "\n",
        "def get_out_of_fold_predictions1(X, y, models):\n",
        "\tmeta_X, meta_y = list(), list()\n",
        "\ti=0\n",
        "\t\n",
        "\t#definisikan dulu model kfold yang mau digunakan\n",
        "\t\n",
        "\tkfold = KFold(n_splits=5, shuffle=True)\n",
        " \n",
        "\t#_ix di bawah ini menyatakan index\n",
        "\t# dengan settingan kfold ini maka jumlah data akan dibagi menjadi 10 fold, dimana 1 fold berjumlah 120 data\n",
        "\t# Dari 10 fold ini 9 akan dijadikan training dan 1 sisanya akan dijadikan testing. \n",
        "\t# Jadi train_ix akan berjumlah 9 x 120 record = 1080 record\n",
        "\t# test_ix akan berjumlah 120 record\n",
        "\n",
        "\tfor train_ix, test_ix in kfold.split(X):\n",
        "\t\ti=i+1\n",
        "\t\tprint(\"nilai i : \",i)\n",
        "\t\t#print(train_ix,test_ix)\n",
        "\t\tfold_yhats = list()\n",
        "\t\t# get data\n",
        "\t\ttrain_X, test_X = X[train_ix], X[test_ix]\n",
        "\t\ttrain_y, test_y = y[train_ix], y[test_ix]\n",
        "\t\tprint(\"nilai test_y : \",test_y)\n",
        "\t\tmeta_y.extend(test_y)\n",
        "\t\t# fit and make predictions with each sub-model\n",
        "\t\tj=0\n",
        "\t\tfor model in models:\n",
        "\t\t\tj=j+1\n",
        "\t\t\tprint(\"nilai j : \",j)\n",
        "\t\t\tmodel.fit(train_X, train_y)\n",
        "\t\t\tyhat = model.predict_proba(test_X)\n",
        "\t\t\tprint(\"yhat  : \",yhat.shape)\n",
        "\t\t\tprint(yhat)\n",
        "\t \t\t# Catatan jumlah kolom yhat mengikuti banyaknya kelas dalam dataset. Dalam hal ini 3 \n",
        "\t\t\tfold_yhats.append(yhat)\n",
        "\t \n",
        "\t\tprint(\"untuk i = \",i,\" Jumlah baris fold_yhats adalah :\", len(fold_yhats),\" Jumlah kolom fold_yhats adalah :\", len(fold_yhats[0]))\n",
        "\t\t#print(\"untuk i = \",i,\" fold_yhats adalah :\", fold_yhats)\t\n",
        "\t\tmeta_X.append(hstack(fold_yhats))\n",
        "\tprint(meta_X)\n",
        "\treturn vstack(meta_X), asarray(meta_y)\n",
        " \n",
        "\n",
        "def fit_base_models(X, y, models):\n",
        "\tfor model in models:\n",
        "\t\tmodel.fit(X, y)\n",
        " \n",
        "# fit a meta model\n",
        "def fit_meta_model(X, y):\n",
        "\tmodel = LogisticRegression(solver='liblinear')\n",
        "\tmodel.fit(X, y)\n",
        "\treturn model\n",
        " \n",
        "\n",
        "def evaluate_models(X, y, models):\n",
        "\tfor model in models:\n",
        "\t\tyhat = model.predict(X)\n",
        "\t\tacc = accuracy_score(y, yhat)\n",
        "\t\tprint('%s: %.3f' % (model.__class__.__name__, acc*100))\n",
        " \n",
        "#make predictions with stacked model\n",
        "def super_learner_predictions(X, models, meta_model):\n",
        "\tmeta_X = list()\n",
        "\tfor model in models:\n",
        "\t\tyhat = model.predict_proba(X) \n",
        "\t\tmeta_X.append(yhat)\n",
        "\tmeta_X = hstack(meta_X)\n",
        "\t# predict\n",
        "\treturn meta_model.predict(meta_X)"
      ],
      "metadata": {
        "execution": {
          "iopub.status.busy": "2022-02-04T22:32:39.709156Z",
          "iopub.execute_input": "2022-02-04T22:32:39.709890Z",
          "iopub.status.idle": "2022-02-04T22:32:39.728353Z",
          "shell.execute_reply.started": "2022-02-04T22:32:39.709827Z",
          "shell.execute_reply": "2022-02-04T22:32:39.726579Z"
        },
        "trusted": true,
        "id": "rY0unW7-5FMb"
      },
      "execution_count": 10,
      "outputs": []
    },
    {
      "cell_type": "code",
      "source": [
        "def get_out_of_fold_predictions(X, y, models):\n",
        "\tmeta_X, meta_y = list(), list()\n",
        "\t#definisikan dulu model kfold yang mau digunakan\n",
        "\t\n",
        "\tkfold = KFold(n_splits=10, shuffle=True)\n",
        " \n",
        "\t#_ix di bawah ini menyatakan index\n",
        "\t# dengan settingan kfold ini maka jumlah data akan dibagi menjadi 10 fold, dimana 1 fold berjumlah 120 data\n",
        "\t# Dari 10 fold ini 9 akan dijadikan training dan 1 sisanya akan dijadikan testing. \n",
        "\t# Jadi train_ix akan berjumlah 9 x 120 record = 1080 record\n",
        "\t# test_ix akan berjumlah 120 record\n",
        "\n",
        "\tfor train_ix, test_ix in kfold.split(X):\n",
        "\t\t\n",
        "\t\tfold_yhats = list()\n",
        "\t\t# get data\n",
        "\t\ttrain_X, test_X = X[train_ix], X[test_ix]\n",
        "\t\ttrain_y, test_y = y[train_ix], y[test_ix]\n",
        "\t\t\n",
        "\t\tmeta_y.extend(test_y)\n",
        "\t\t# fit and make predictions with each sub-model\n",
        "\t\t#Prediction dari setiap model disimpan sebagai attribut/fitur input dari superlearner model  \n",
        "\t\tfor model in models:\n",
        "\t\t\tmodel.fit(train_X, train_y)\n",
        "\t\t\tyhat = model.predict_proba(test_X)\n",
        "\t\t\t#print(\"yhat  : \",yhat.shape)\n",
        "\t \t\t# Catatan jumlah kolom yhat mengikuti banyaknya kelas dalam dataset. \n",
        "\t\t\tfold_yhats.append(yhat)\n",
        "\t\t#print(\"untuk i = \",i,\" Jumlah baris fold_yhats adalah :\", len(fold_yhats),\" Jumlah kolom fold_yhats adalah :\", len(fold_yhats[0]))\n",
        "\t\t#print(\"untuk i = \",i,\" fold_yhats adalah :\", fold_yhats)\t\n",
        "\t\tmeta_X.append(hstack(fold_yhats))\n",
        "\t#print(meta_X)\n",
        "\treturn vstack(meta_X), asarray(meta_y)\n",
        " "
      ],
      "metadata": {
        "id": "KYcQ9LPUzwxB"
      },
      "execution_count": 11,
      "outputs": []
    },
    {
      "cell_type": "code",
      "source": [
        "Model=get_models()\n",
        "print(Model)"
      ],
      "metadata": {
        "colab": {
          "base_uri": "https://localhost:8080/"
        },
        "id": "0DhkXE5W9bQS",
        "outputId": "ae58658c-7ed8-440d-e5c9-4c966fef013b"
      },
      "execution_count": 12,
      "outputs": [
        {
          "output_type": "stream",
          "name": "stdout",
          "text": [
            "[LogisticRegression(solver='liblinear'), DecisionTreeClassifier(), SVC(probability=True), GaussianNB(), KNeighborsClassifier(), AdaBoostClassifier(), BaggingClassifier(), RandomForestClassifier(n_estimators=10), ExtraTreesClassifier(n_estimators=10)]\n"
          ]
        }
      ]
    },
    {
      "cell_type": "code",
      "source": [
        "Met_X, Met_y = get_out_of_fold_predictions1(X, y, Model)\n",
        "print(Met_X.shape)\n",
        "print(Met_y.shape)"
      ],
      "metadata": {
        "id": "dlbPbGcK-ISU",
        "outputId": "a8f75210-4ad3-4464-ce40-d263095b28b9",
        "colab": {
          "base_uri": "https://localhost:8080/"
        }
      },
      "execution_count": 13,
      "outputs": [
        {
          "output_type": "stream",
          "name": "stdout",
          "text": [
            "nilai i :  1\n",
            "nilai test_y :  [2 0]\n",
            "nilai j :  1\n",
            "yhat  :  (2, 3)\n",
            "[[3.15018867e-04 3.70016299e-01 6.29668682e-01]\n",
            " [7.17877846e-01 2.75384381e-01 6.73777305e-03]]\n",
            "nilai j :  2\n",
            "yhat  :  (2, 3)\n",
            "[[0. 0. 1.]\n",
            " [1. 0. 0.]]\n",
            "nilai j :  3\n",
            "yhat  :  (2, 3)\n",
            "[[0.13918388 0.64828841 0.21252771]\n",
            " [0.67470714 0.15513988 0.17015298]]\n",
            "nilai j :  4\n",
            "yhat  :  (2, 3)\n",
            "[[3.00211663e-63 3.06293725e-01 6.93706275e-01]\n",
            " [1.00000000e+00 2.67907866e-50 0.00000000e+00]]\n",
            "nilai j :  5\n",
            "yhat  :  (2, 3)\n",
            "[[0.  0.6 0.4]\n",
            " [0.6 0.4 0. ]]\n",
            "nilai j :  6\n",
            "yhat  :  (2, 3)\n",
            "[[1.61458905e-10 1.97233467e-10 1.00000000e+00]\n",
            " [1.00000000e+00 7.67135312e-11 2.35939671e-10]]\n",
            "nilai j :  7\n",
            "yhat  :  (2, 3)\n",
            "[[0. 0. 1.]\n",
            " [1. 0. 0.]]\n",
            "nilai j :  8\n",
            "yhat  :  (2, 3)\n",
            "[[0.  0.1 0.9]\n",
            " [1.  0.  0. ]]\n",
            "nilai j :  9\n",
            "yhat  :  (2, 3)\n",
            "[[0. 0. 1.]\n",
            " [1. 0. 0.]]\n",
            "untuk i =  1  Jumlah baris fold_yhats adalah : 9  Jumlah kolom fold_yhats adalah : 2\n",
            "nilai i :  2\n",
            "nilai test_y :  [2 0]\n",
            "nilai j :  1\n",
            "yhat  :  (2, 3)\n",
            "[[0.00211463 0.55235574 0.44552963]\n",
            " [0.70481403 0.28938019 0.00580578]]\n",
            "nilai j :  2\n",
            "yhat  :  (2, 3)\n",
            "[[0. 1. 0.]\n",
            " [1. 0. 0.]]\n",
            "nilai j :  3\n",
            "yhat  :  (2, 3)\n",
            "[[0.10860138 0.6113027  0.28009592]\n",
            " [0.69344007 0.17810697 0.12845295]]\n",
            "nilai j :  4\n",
            "yhat  :  (2, 3)\n",
            "[[4.36991116e-61 1.00000000e+00 6.22226763e-19]\n",
            " [1.00000000e+00 2.74620784e-62 0.00000000e+00]]\n",
            "nilai j :  5\n",
            "yhat  :  (2, 3)\n",
            "[[0.  0.6 0.4]\n",
            " [0.6 0.4 0. ]]\n",
            "nilai j :  6\n",
            "yhat  :  (2, 3)\n",
            "[[4.23816225e-11 9.10919169e-01 8.90808313e-02]\n",
            " [9.99999999e-01 5.34975661e-11 5.80955827e-10]]\n",
            "nilai j :  7\n",
            "yhat  :  (2, 3)\n",
            "[[0.  0.4 0.6]\n",
            " [1.  0.  0. ]]\n",
            "nilai j :  8\n",
            "yhat  :  (2, 3)\n",
            "[[0.  0.6 0.4]\n",
            " [1.  0.  0. ]]\n",
            "nilai j :  9\n",
            "yhat  :  (2, 3)\n",
            "[[0.  0.6 0.4]\n",
            " [1.  0.  0. ]]\n",
            "untuk i =  2  Jumlah baris fold_yhats adalah : 9  Jumlah kolom fold_yhats adalah : 2\n",
            "nilai i :  3\n",
            "nilai test_y :  [0 1]\n",
            "nilai j :  1\n",
            "yhat  :  (2, 3)\n",
            "[[0.75370218 0.22022767 0.02607015]\n",
            " [0.06252177 0.8648585  0.07261973]]\n",
            "nilai j :  2\n",
            "yhat  :  (2, 3)\n",
            "[[1. 0. 0.]\n",
            " [0. 1. 0.]]\n",
            "nilai j :  3\n",
            "yhat  :  (2, 3)\n",
            "[[0.67100094 0.16681359 0.16218547]\n",
            " [0.16412233 0.18987962 0.64599805]]\n",
            "nilai j :  4\n",
            "yhat  :  (2, 3)\n",
            "[[1.00000000e+00 0.00000000e+00 3.72026070e-89]\n",
            " [2.44268281e-59 8.44735022e-12 1.00000000e+00]]\n",
            "nilai j :  5\n",
            "yhat  :  (2, 3)\n",
            "[[0.6 0.4 0. ]\n",
            " [0.  0.4 0.6]]\n",
            "nilai j :  6\n",
            "yhat  :  (2, 3)\n",
            "[[1.00000000e+00 1.16445099e-10 2.66904515e-10]\n",
            " [3.47437123e-09 9.99999997e-01 9.16571583e-12]]\n",
            "nilai j :  7\n",
            "yhat  :  (2, 3)\n",
            "[[0.9 0.  0.1]\n",
            " [0.  0.8 0.2]]\n",
            "nilai j :  8\n",
            "yhat  :  (2, 3)\n",
            "[[1.  0.  0. ]\n",
            " [0.  0.9 0.1]]\n",
            "nilai j :  9\n",
            "yhat  :  (2, 3)\n",
            "[[1. 0. 0.]\n",
            " [0. 1. 0.]]\n",
            "untuk i =  3  Jumlah baris fold_yhats adalah : 9  Jumlah kolom fold_yhats adalah : 2\n",
            "nilai i :  4\n",
            "nilai test_y :  [2 0]\n",
            "nilai j :  1\n",
            "yhat  :  (2, 3)\n",
            "[[0.00126017 0.39662944 0.60211039]\n",
            " [0.68822276 0.24407751 0.06769973]]\n",
            "nilai j :  2\n",
            "yhat  :  (2, 3)\n",
            "[[0. 0. 1.]\n",
            " [1. 0. 0.]]\n",
            "nilai j :  3\n",
            "yhat  :  (2, 3)\n",
            "[[0.133033   0.67018228 0.19678472]\n",
            " [0.66788446 0.17704673 0.15506882]]\n",
            "nilai j :  4\n",
            "yhat  :  (2, 3)\n",
            "[[3.54553402e-248 1.32265461e-004 9.99867735e-001]\n",
            " [1.00000000e+000 6.04075876e-046 4.84023343e-066]]\n",
            "nilai j :  5\n",
            "yhat  :  (2, 3)\n",
            "[[0.  0.6 0.4]\n",
            " [0.6 0.4 0. ]]\n",
            "nilai j :  6\n",
            "yhat  :  (2, 3)\n",
            "[[8.17463189e-10 3.89560044e-11 9.99999999e-01]\n",
            " [1.00000000e+00 1.88890195e-10 1.64538571e-10]]\n",
            "nilai j :  7\n",
            "yhat  :  (2, 3)\n",
            "[[0.  0.1 0.9]\n",
            " [1.  0.  0. ]]\n",
            "nilai j :  8\n",
            "yhat  :  (2, 3)\n",
            "[[0.  0.1 0.9]\n",
            " [1.  0.  0. ]]\n",
            "nilai j :  9\n",
            "yhat  :  (2, 3)\n",
            "[[0. 0. 1.]\n",
            " [1. 0. 0.]]\n",
            "untuk i =  4  Jumlah baris fold_yhats adalah : 9  Jumlah kolom fold_yhats adalah : 2\n",
            "nilai i :  5\n",
            "nilai test_y :  [1 1]\n",
            "nilai j :  1\n",
            "yhat  :  (2, 3)\n",
            "[[0.01799082 0.37548723 0.60652195]\n",
            " [0.00632742 0.2831788  0.71049377]]\n",
            "nilai j :  2\n",
            "yhat  :  (2, 3)\n",
            "[[0. 0. 1.]\n",
            " [0. 0. 1.]]\n",
            "nilai j :  3\n",
            "yhat  :  (2, 3)\n",
            "[[0.24956213 0.09819466 0.65224321]\n",
            " [0.22441167 0.10931536 0.66627297]]\n",
            "nilai j :  4\n",
            "yhat  :  (2, 3)\n",
            "[[1.12990053e-42 0.00000000e+00 1.00000000e+00]\n",
            " [1.36242240e-49 0.00000000e+00 1.00000000e+00]]\n",
            "nilai j :  5\n",
            "yhat  :  (2, 3)\n",
            "[[0.2 0.2 0.6]\n",
            " [0.2 0.2 0.6]]\n",
            "nilai j :  6\n",
            "yhat  :  (2, 3)\n",
            "[[7.86707551e-01 1.57456795e-01 5.58356547e-02]\n",
            " [4.81138438e-10 6.39899432e-11 9.99999999e-01]]\n",
            "nilai j :  7\n",
            "yhat  :  (2, 3)\n",
            "[[0.  0.4 0.6]\n",
            " [0.  0.  1. ]]\n",
            "nilai j :  8\n",
            "yhat  :  (2, 3)\n",
            "[[0.  0.6 0.4]\n",
            " [0.  0.2 0.8]]\n",
            "nilai j :  9\n",
            "yhat  :  (2, 3)\n",
            "[[0.1 0.3 0.6]\n",
            " [0.1 0.1 0.8]]\n",
            "untuk i =  5  Jumlah baris fold_yhats adalah : 9  Jumlah kolom fold_yhats adalah : 2\n",
            "[array([[3.15018867e-04, 3.70016299e-01, 6.29668682e-01, 0.00000000e+00,\n",
            "        0.00000000e+00, 1.00000000e+00, 1.39183875e-01, 6.48288410e-01,\n",
            "        2.12527715e-01, 3.00211663e-63, 3.06293725e-01, 6.93706275e-01,\n",
            "        0.00000000e+00, 6.00000000e-01, 4.00000000e-01, 1.61458905e-10,\n",
            "        1.97233467e-10, 1.00000000e+00, 0.00000000e+00, 0.00000000e+00,\n",
            "        1.00000000e+00, 0.00000000e+00, 1.00000000e-01, 9.00000000e-01,\n",
            "        0.00000000e+00, 0.00000000e+00, 1.00000000e+00],\n",
            "       [7.17877846e-01, 2.75384381e-01, 6.73777305e-03, 1.00000000e+00,\n",
            "        0.00000000e+00, 0.00000000e+00, 6.74707142e-01, 1.55139879e-01,\n",
            "        1.70152979e-01, 1.00000000e+00, 2.67907866e-50, 0.00000000e+00,\n",
            "        6.00000000e-01, 4.00000000e-01, 0.00000000e+00, 1.00000000e+00,\n",
            "        7.67135312e-11, 2.35939671e-10, 1.00000000e+00, 0.00000000e+00,\n",
            "        0.00000000e+00, 1.00000000e+00, 0.00000000e+00, 0.00000000e+00,\n",
            "        1.00000000e+00, 0.00000000e+00, 0.00000000e+00]]), array([[2.11462593e-03, 5.52355744e-01, 4.45529630e-01, 0.00000000e+00,\n",
            "        1.00000000e+00, 0.00000000e+00, 1.08601377e-01, 6.11302701e-01,\n",
            "        2.80095921e-01, 4.36991116e-61, 1.00000000e+00, 6.22226763e-19,\n",
            "        0.00000000e+00, 6.00000000e-01, 4.00000000e-01, 4.23816225e-11,\n",
            "        9.10919169e-01, 8.90808313e-02, 0.00000000e+00, 4.00000000e-01,\n",
            "        6.00000000e-01, 0.00000000e+00, 6.00000000e-01, 4.00000000e-01,\n",
            "        0.00000000e+00, 6.00000000e-01, 4.00000000e-01],\n",
            "       [7.04814029e-01, 2.89380193e-01, 5.80577747e-03, 1.00000000e+00,\n",
            "        0.00000000e+00, 0.00000000e+00, 6.93440072e-01, 1.78106974e-01,\n",
            "        1.28452954e-01, 1.00000000e+00, 2.74620784e-62, 0.00000000e+00,\n",
            "        6.00000000e-01, 4.00000000e-01, 0.00000000e+00, 9.99999999e-01,\n",
            "        5.34975661e-11, 5.80955827e-10, 1.00000000e+00, 0.00000000e+00,\n",
            "        0.00000000e+00, 1.00000000e+00, 0.00000000e+00, 0.00000000e+00,\n",
            "        1.00000000e+00, 0.00000000e+00, 0.00000000e+00]]), array([[7.53702185e-01, 2.20227667e-01, 2.60701485e-02, 1.00000000e+00,\n",
            "        0.00000000e+00, 0.00000000e+00, 6.71000939e-01, 1.66813592e-01,\n",
            "        1.62185469e-01, 1.00000000e+00, 0.00000000e+00, 3.72026070e-89,\n",
            "        6.00000000e-01, 4.00000000e-01, 0.00000000e+00, 1.00000000e+00,\n",
            "        1.16445099e-10, 2.66904515e-10, 9.00000000e-01, 0.00000000e+00,\n",
            "        1.00000000e-01, 1.00000000e+00, 0.00000000e+00, 0.00000000e+00,\n",
            "        1.00000000e+00, 0.00000000e+00, 0.00000000e+00],\n",
            "       [6.25217694e-02, 8.64858502e-01, 7.26197281e-02, 0.00000000e+00,\n",
            "        1.00000000e+00, 0.00000000e+00, 1.64122328e-01, 1.89879622e-01,\n",
            "        6.45998050e-01, 2.44268281e-59, 8.44735022e-12, 1.00000000e+00,\n",
            "        0.00000000e+00, 4.00000000e-01, 6.00000000e-01, 3.47437123e-09,\n",
            "        9.99999997e-01, 9.16571583e-12, 0.00000000e+00, 8.00000000e-01,\n",
            "        2.00000000e-01, 0.00000000e+00, 9.00000000e-01, 1.00000000e-01,\n",
            "        0.00000000e+00, 1.00000000e+00, 0.00000000e+00]]), array([[1.26017285e-003, 3.96629436e-001, 6.02110391e-001,\n",
            "        0.00000000e+000, 0.00000000e+000, 1.00000000e+000,\n",
            "        1.33033000e-001, 6.70182277e-001, 1.96784723e-001,\n",
            "        3.54553402e-248, 1.32265461e-004, 9.99867735e-001,\n",
            "        0.00000000e+000, 6.00000000e-001, 4.00000000e-001,\n",
            "        8.17463189e-010, 3.89560044e-011, 9.99999999e-001,\n",
            "        0.00000000e+000, 1.00000000e-001, 9.00000000e-001,\n",
            "        0.00000000e+000, 1.00000000e-001, 9.00000000e-001,\n",
            "        0.00000000e+000, 0.00000000e+000, 1.00000000e+000],\n",
            "       [6.88222759e-001, 2.44077508e-001, 6.76997336e-002,\n",
            "        1.00000000e+000, 0.00000000e+000, 0.00000000e+000,\n",
            "        6.67884458e-001, 1.77046726e-001, 1.55068815e-001,\n",
            "        1.00000000e+000, 6.04075876e-046, 4.84023343e-066,\n",
            "        6.00000000e-001, 4.00000000e-001, 0.00000000e+000,\n",
            "        1.00000000e+000, 1.88890195e-010, 1.64538571e-010,\n",
            "        1.00000000e+000, 0.00000000e+000, 0.00000000e+000,\n",
            "        1.00000000e+000, 0.00000000e+000, 0.00000000e+000,\n",
            "        1.00000000e+000, 0.00000000e+000, 0.00000000e+000]]), array([[1.79908219e-02, 3.75487228e-01, 6.06521950e-01, 0.00000000e+00,\n",
            "        0.00000000e+00, 1.00000000e+00, 2.49562126e-01, 9.81946648e-02,\n",
            "        6.52243210e-01, 1.12990053e-42, 0.00000000e+00, 1.00000000e+00,\n",
            "        2.00000000e-01, 2.00000000e-01, 6.00000000e-01, 7.86707551e-01,\n",
            "        1.57456795e-01, 5.58356547e-02, 0.00000000e+00, 4.00000000e-01,\n",
            "        6.00000000e-01, 0.00000000e+00, 6.00000000e-01, 4.00000000e-01,\n",
            "        1.00000000e-01, 3.00000000e-01, 6.00000000e-01],\n",
            "       [6.32742404e-03, 2.83178803e-01, 7.10493773e-01, 0.00000000e+00,\n",
            "        0.00000000e+00, 1.00000000e+00, 2.24411666e-01, 1.09315365e-01,\n",
            "        6.66272969e-01, 1.36242240e-49, 0.00000000e+00, 1.00000000e+00,\n",
            "        2.00000000e-01, 2.00000000e-01, 6.00000000e-01, 4.81138438e-10,\n",
            "        6.39899432e-11, 9.99999999e-01, 0.00000000e+00, 0.00000000e+00,\n",
            "        1.00000000e+00, 0.00000000e+00, 2.00000000e-01, 8.00000000e-01,\n",
            "        1.00000000e-01, 1.00000000e-01, 8.00000000e-01]])]\n",
            "(10, 27)\n",
            "(10,)\n"
          ]
        }
      ]
    },
    {
      "cell_type": "code",
      "source": [
        "print(Met_X)"
      ],
      "metadata": {
        "id": "ply8DJ-YxTx2",
        "outputId": "37a4ec19-3294-4558-d35b-2601af12d790",
        "colab": {
          "base_uri": "https://localhost:8080/"
        }
      },
      "execution_count": 14,
      "outputs": [
        {
          "output_type": "stream",
          "name": "stdout",
          "text": [
            "[[3.15018867e-004 3.70016299e-001 6.29668682e-001 0.00000000e+000\n",
            "  0.00000000e+000 1.00000000e+000 1.39183875e-001 6.48288410e-001\n",
            "  2.12527715e-001 3.00211663e-063 3.06293725e-001 6.93706275e-001\n",
            "  0.00000000e+000 6.00000000e-001 4.00000000e-001 1.61458905e-010\n",
            "  1.97233467e-010 1.00000000e+000 0.00000000e+000 0.00000000e+000\n",
            "  1.00000000e+000 0.00000000e+000 1.00000000e-001 9.00000000e-001\n",
            "  0.00000000e+000 0.00000000e+000 1.00000000e+000]\n",
            " [7.17877846e-001 2.75384381e-001 6.73777305e-003 1.00000000e+000\n",
            "  0.00000000e+000 0.00000000e+000 6.74707142e-001 1.55139879e-001\n",
            "  1.70152979e-001 1.00000000e+000 2.67907866e-050 0.00000000e+000\n",
            "  6.00000000e-001 4.00000000e-001 0.00000000e+000 1.00000000e+000\n",
            "  7.67135312e-011 2.35939671e-010 1.00000000e+000 0.00000000e+000\n",
            "  0.00000000e+000 1.00000000e+000 0.00000000e+000 0.00000000e+000\n",
            "  1.00000000e+000 0.00000000e+000 0.00000000e+000]\n",
            " [2.11462593e-003 5.52355744e-001 4.45529630e-001 0.00000000e+000\n",
            "  1.00000000e+000 0.00000000e+000 1.08601377e-001 6.11302701e-001\n",
            "  2.80095921e-001 4.36991116e-061 1.00000000e+000 6.22226763e-019\n",
            "  0.00000000e+000 6.00000000e-001 4.00000000e-001 4.23816225e-011\n",
            "  9.10919169e-001 8.90808313e-002 0.00000000e+000 4.00000000e-001\n",
            "  6.00000000e-001 0.00000000e+000 6.00000000e-001 4.00000000e-001\n",
            "  0.00000000e+000 6.00000000e-001 4.00000000e-001]\n",
            " [7.04814029e-001 2.89380193e-001 5.80577747e-003 1.00000000e+000\n",
            "  0.00000000e+000 0.00000000e+000 6.93440072e-001 1.78106974e-001\n",
            "  1.28452954e-001 1.00000000e+000 2.74620784e-062 0.00000000e+000\n",
            "  6.00000000e-001 4.00000000e-001 0.00000000e+000 9.99999999e-001\n",
            "  5.34975661e-011 5.80955827e-010 1.00000000e+000 0.00000000e+000\n",
            "  0.00000000e+000 1.00000000e+000 0.00000000e+000 0.00000000e+000\n",
            "  1.00000000e+000 0.00000000e+000 0.00000000e+000]\n",
            " [7.53702185e-001 2.20227667e-001 2.60701485e-002 1.00000000e+000\n",
            "  0.00000000e+000 0.00000000e+000 6.71000939e-001 1.66813592e-001\n",
            "  1.62185469e-001 1.00000000e+000 0.00000000e+000 3.72026070e-089\n",
            "  6.00000000e-001 4.00000000e-001 0.00000000e+000 1.00000000e+000\n",
            "  1.16445099e-010 2.66904515e-010 9.00000000e-001 0.00000000e+000\n",
            "  1.00000000e-001 1.00000000e+000 0.00000000e+000 0.00000000e+000\n",
            "  1.00000000e+000 0.00000000e+000 0.00000000e+000]\n",
            " [6.25217694e-002 8.64858502e-001 7.26197281e-002 0.00000000e+000\n",
            "  1.00000000e+000 0.00000000e+000 1.64122328e-001 1.89879622e-001\n",
            "  6.45998050e-001 2.44268281e-059 8.44735022e-012 1.00000000e+000\n",
            "  0.00000000e+000 4.00000000e-001 6.00000000e-001 3.47437123e-009\n",
            "  9.99999997e-001 9.16571583e-012 0.00000000e+000 8.00000000e-001\n",
            "  2.00000000e-001 0.00000000e+000 9.00000000e-001 1.00000000e-001\n",
            "  0.00000000e+000 1.00000000e+000 0.00000000e+000]\n",
            " [1.26017285e-003 3.96629436e-001 6.02110391e-001 0.00000000e+000\n",
            "  0.00000000e+000 1.00000000e+000 1.33033000e-001 6.70182277e-001\n",
            "  1.96784723e-001 3.54553402e-248 1.32265461e-004 9.99867735e-001\n",
            "  0.00000000e+000 6.00000000e-001 4.00000000e-001 8.17463189e-010\n",
            "  3.89560044e-011 9.99999999e-001 0.00000000e+000 1.00000000e-001\n",
            "  9.00000000e-001 0.00000000e+000 1.00000000e-001 9.00000000e-001\n",
            "  0.00000000e+000 0.00000000e+000 1.00000000e+000]\n",
            " [6.88222759e-001 2.44077508e-001 6.76997336e-002 1.00000000e+000\n",
            "  0.00000000e+000 0.00000000e+000 6.67884458e-001 1.77046726e-001\n",
            "  1.55068815e-001 1.00000000e+000 6.04075876e-046 4.84023343e-066\n",
            "  6.00000000e-001 4.00000000e-001 0.00000000e+000 1.00000000e+000\n",
            "  1.88890195e-010 1.64538571e-010 1.00000000e+000 0.00000000e+000\n",
            "  0.00000000e+000 1.00000000e+000 0.00000000e+000 0.00000000e+000\n",
            "  1.00000000e+000 0.00000000e+000 0.00000000e+000]\n",
            " [1.79908219e-002 3.75487228e-001 6.06521950e-001 0.00000000e+000\n",
            "  0.00000000e+000 1.00000000e+000 2.49562126e-001 9.81946648e-002\n",
            "  6.52243210e-001 1.12990053e-042 0.00000000e+000 1.00000000e+000\n",
            "  2.00000000e-001 2.00000000e-001 6.00000000e-001 7.86707551e-001\n",
            "  1.57456795e-001 5.58356547e-002 0.00000000e+000 4.00000000e-001\n",
            "  6.00000000e-001 0.00000000e+000 6.00000000e-001 4.00000000e-001\n",
            "  1.00000000e-001 3.00000000e-001 6.00000000e-001]\n",
            " [6.32742404e-003 2.83178803e-001 7.10493773e-001 0.00000000e+000\n",
            "  0.00000000e+000 1.00000000e+000 2.24411666e-001 1.09315365e-001\n",
            "  6.66272969e-001 1.36242240e-049 0.00000000e+000 1.00000000e+000\n",
            "  2.00000000e-001 2.00000000e-001 6.00000000e-001 4.81138438e-010\n",
            "  6.39899432e-011 9.99999999e-001 0.00000000e+000 0.00000000e+000\n",
            "  1.00000000e+000 0.00000000e+000 2.00000000e-001 8.00000000e-001\n",
            "  1.00000000e-001 1.00000000e-001 8.00000000e-001]]\n"
          ]
        }
      ]
    },
    {
      "cell_type": "code",
      "source": [
        "# Membangkitkan dataset klasifikasi dengan dua kelas, 2000 record dan 200 features\n",
        "X, y = make_blobs(n_samples=2000, centers=2, n_features=200, cluster_std=20,random_state=1)"
      ],
      "metadata": {
        "id": "WP0cwsLCXe0V"
      },
      "execution_count": 15,
      "outputs": []
    },
    {
      "cell_type": "code",
      "source": [
        "# split\n",
        "X, X_val, y, y_val = train_test_split(X, y, test_size=0.40)\n",
        "# dengan pembagian ini, 60%  data (1200) dipakai sebagai data training dan sisanya 800 data dipakai sebagai data untuk validasi.\n",
        "print('Train', X.shape, y.shape, 'Test', X_val.shape, y_val.shape)"
      ],
      "metadata": {
        "colab": {
          "base_uri": "https://localhost:8080/"
        },
        "id": "6QNk2eEuXkGo",
        "outputId": "dae95fb8-7e09-43c8-f641-f707a16951cd"
      },
      "execution_count": 16,
      "outputs": [
        {
          "output_type": "stream",
          "name": "stdout",
          "text": [
            "Train (1200, 200) (1200,) Test (800, 200) (800,)\n"
          ]
        }
      ]
    },
    {
      "cell_type": "code",
      "source": [
        "# Inisiasi models dengan get models\n",
        "models = get_models()"
      ],
      "metadata": {
        "id": "u-A3Ds4YXvzr"
      },
      "execution_count": 17,
      "outputs": []
    },
    {
      "cell_type": "code",
      "source": [
        "# Jalankan fungsi get out of fold predictions untuk membangkitkan input bagi superlearner\n",
        "# Prediksi dari base learner akan menjadi atribut bagi superlearner\n",
        "# jumlah record untuk superlearner adalah jumlah data test setiap Fold dikalikan dengan jumlah Fold. \n",
        "# Jadi jika k=10, dalam setiap Fold, data test berjumlah 120. Diperoleh dari 1200/10. Karena ada 10 fold, maka datatest berjumlah 10*120=1200 baris. \n",
        "\n",
        "meta_X, meta_y = get_out_of_fold_predictions(X, y, models)\n",
        "print('Meta ', meta_X.shape, meta_y.shape)\n",
        "\n",
        "#print(meta_X)\n",
        "#Jumlah kolom/atribut hasil adalah sebesar 18.\n",
        "# 18 berasal dari 9 model memprediksi peluang 2 kelas, yaitu kelas 0 dan 1\n",
        "# Jumlah baris adalah 10*120=1200. "
      ],
      "metadata": {
        "colab": {
          "base_uri": "https://localhost:8080/"
        },
        "id": "I2BcVeYKX2s-",
        "outputId": "c3011034-0c99-43b5-f508-2c13636b8083"
      },
      "execution_count": 18,
      "outputs": [
        {
          "output_type": "stream",
          "name": "stdout",
          "text": [
            "Meta  (1200, 18) (1200,)\n"
          ]
        }
      ]
    },
    {
      "cell_type": "code",
      "source": [
        "# fit base models\n",
        "# Tahapan ini adalah membandingkan akurasi antara base models dan superlearner model.\n",
        "fit_base_models(X, y, models)\n",
        "# fit the meta model\n",
        "# Metamodel difit menggunakan k-fold prediction yang dihasilkan oleh base learner.\n",
        "meta_model = fit_meta_model(meta_X, meta_y)"
      ],
      "metadata": {
        "id": "z-eec0m5X-XR"
      },
      "execution_count": 19,
      "outputs": []
    },
    {
      "cell_type": "code",
      "source": [
        "# evaluate base models\n",
        "# disini base models dievaluasi keakuratan prediksi kelas.\n",
        "evaluate_models(X_val, y_val, models)"
      ],
      "metadata": {
        "colab": {
          "base_uri": "https://localhost:8080/"
        },
        "id": "aMm8xn-AYDzc",
        "outputId": "25dd00ee-097c-48d6-c16e-09689f2fbfe1"
      },
      "execution_count": 20,
      "outputs": [
        {
          "output_type": "stream",
          "name": "stdout",
          "text": [
            "LogisticRegression: 99.875\n",
            "DecisionTreeClassifier: 79.250\n",
            "SVC: 100.000\n",
            "GaussianNB: 99.875\n",
            "KNeighborsClassifier: 99.250\n",
            "AdaBoostClassifier: 98.125\n",
            "BaggingClassifier: 90.125\n",
            "RandomForestClassifier: 93.250\n",
            "ExtraTreesClassifier: 90.875\n"
          ]
        }
      ]
    },
    {
      "cell_type": "code",
      "source": [
        "# evaluate meta model\n",
        "# Sebelum meta model melakukan prediksi terhadap X_Val, base models diberi kesempatan dulu untuk melakukan \n",
        "# Predict_proba terhadap X_Val. Hasil predict_proba ini menjadi input bagi superlearner.\n",
        "\n",
        "yhat = super_learner_predictions(X_val, models, meta_model)\n",
        "print('Akurasi Super Learner: %.3f' % (accuracy_score(y_val, yhat) * 100))"
      ],
      "metadata": {
        "execution": {
          "iopub.status.busy": "2022-02-04T22:32:48.217571Z",
          "iopub.execute_input": "2022-02-04T22:32:48.218055Z",
          "iopub.status.idle": "2022-02-04T22:33:27.865336Z",
          "shell.execute_reply.started": "2022-02-04T22:32:48.218008Z",
          "shell.execute_reply": "2022-02-04T22:33:27.856886Z"
        },
        "trusted": true,
        "colab": {
          "base_uri": "https://localhost:8080/"
        },
        "id": "XJt6AdyI5FMf",
        "outputId": "ae86bc00-d6d0-4fd3-a14b-c6053ee1ef17"
      },
      "execution_count": 21,
      "outputs": [
        {
          "output_type": "stream",
          "name": "stdout",
          "text": [
            "Akurasi Super Learner: 99.875\n"
          ]
        }
      ]
    }
  ]
}